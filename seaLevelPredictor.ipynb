{
 "cells": [
  {
   "cell_type": "code",
   "execution_count": null,
   "id": "ad4e52b5-61d3-465d-83f2-18b49a2dd547",
   "metadata": {},
   "outputs": [],
   "source": [
    "import pandas as pd\n",
    "import matplotlib.pyplot as plt\n",
    "from scipy.stats import linregress\n",
    "\n",
    "def draw_plot():\n",
    "    df = pd.read_csv('epa-sea-level.csv')\n",
    "\n",
    "    plt.figure(figsize=(10, 6))\n",
    "    plt.scatter(df['Year'], df['CSIRO Adjusted Sea Level'], label='Data', color='blue')\n",
    "\n",
    "    slope, intercept, r_value, p_value, std_err = linregress(df['Year'], df['CSIRO Adjusted Sea Level'])\n",
    "    years_extended = range(df['Year'].min(), 2051) \n",
    "    plt.plot(years_extended, [slope * year + intercept for year in years_extended], 'r', label='Best Fit Line (All Data)')\n",
    "\n",
    "    df_recent = df[df['Year'] >= 2000]\n",
    "    slope_recent, intercept_recent, r_value_recent, p_value_recent, std_err_recent = linregress(df_recent['Year'], df_recent['CSIRO Adjusted Sea Level'])\n",
    "    \n",
    "    years_recent_extended = range(2000, 2051)\n",
    "    plt.plot(years_recent_extended, [slope_recent * year + intercept_recent for year in years_recent_extended], 'g', label='Best Fit Line (2000+)')\n",
    "\n",
    "    plt.xlabel('Year')\n",
    "    plt.ylabel('Sea Level (inches)')\n",
    "    plt.title('Rise in Sea Level')\n",
    "    plt.legend()\n",
    "\n",
    "    plt.savefig('sea_level_plot.png')\n",
    "    return plt.gca()"
   ]
  }
 ],
 "metadata": {
  "kernelspec": {
   "display_name": "Python 3 (ipykernel)",
   "language": "python",
   "name": "python3"
  },
  "language_info": {
   "codemirror_mode": {
    "name": "ipython",
    "version": 3
   },
   "file_extension": ".py",
   "mimetype": "text/x-python",
   "name": "python",
   "nbconvert_exporter": "python",
   "pygments_lexer": "ipython3",
   "version": "3.11.7"
  }
 },
 "nbformat": 4,
 "nbformat_minor": 5
}
